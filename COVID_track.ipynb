{
 "cells": [
  {
   "cell_type": "code",
   "execution_count": 68,
   "metadata": {},
   "outputs": [],
   "source": [
    "from tabulate import tabulate\n",
    "from operator import itemgetter\n",
    "from pprint import pprint"
   ]
  },
  {
   "cell_type": "code",
   "execution_count": 69,
   "metadata": {},
   "outputs": [
    {
     "name": "stdout",
     "output_type": "stream",
     "text": [
      "--------------\n",
      "nassau\n",
      "--------------\n",
      "{'SUMLEV': '050', 'REGION': '1', 'STATE': '36', 'COUNTY': '059', 'STNAME': 'New York', 'CTYNAME': 'Nassau County', 'POPESTIMATE2019': '1356924', 'DEATHS2019': '11312', 'RDEATH2019': '8.3346288651', 'composite_fips': '36059'}\n"
     ]
    }
   ],
   "source": [
    "import population\n",
    "\n",
    "print(population.search('new york', 'nassau'))"
   ]
  },
  {
   "cell_type": "code",
   "execution_count": 70,
   "metadata": {},
   "outputs": [],
   "source": [
    "county_data = open(\"./covid-19-data/us-counties.csv\")"
   ]
  },
  {
   "cell_type": "code",
   "execution_count": 71,
   "metadata": {},
   "outputs": [],
   "source": [
    "def search_v2(data, s, c=False):\n",
    "    if c == '':\n",
    "        c = False\n",
    "    p_data = population.search(s, c)\n",
    "\n",
    "    if p_data == None:\n",
    "        print(\"No match for that geography.\")\n",
    "        return\n",
    "    else:\n",
    "        pprint(p_data)\n",
    "    header = ['Date', 'Cases', 'Deaths']\n",
    "    c_data = []\n",
    "    prior_c = 0\n",
    "    prior_d = 0\n",
    "    row_count = 0\n",
    "    for line in data:\n",
    "        row_count += 1\n",
    "        include = False\n",
    "        row = line.strip().split(',')\n",
    "        if len(row) == 6:\n",
    "            if c is not False:\n",
    "                if c.lower() == \"new york city\":\n",
    "                    if row[1] == 'New York City':\n",
    "                        include = True\n",
    "            if row[3] == p_data['composite_fips']:\n",
    "                include = True\n",
    "            if include:\n",
    "                delta = int(row[4]) - prior_c\n",
    "                delta_d = int(row[5]) - prior_d\n",
    "                if prior_c > 0:\n",
    "                    delta_p = float(\"{:.2f}\".format((delta / prior_c) * 100))\n",
    "                else:\n",
    "                    delta_p = '-'\n",
    "                    \n",
    "                if prior_d > 0:\n",
    "                    delta_dp = float(\"{:.4f}\".format((delta_d / prior_d) * 100))\n",
    "                else:\n",
    "                    delta_dp = '-'\n",
    "                    \n",
    "                if delta > -1:\n",
    "                    c_data.append([row[0], row[4], delta, delta_p, row[5], delta_d, delta_dp])\n",
    "                prior_c = int(row[4])\n",
    "                prior_d = int(row[5])\n",
    "    print(\"Row Count: \", row_count)\n",
    "    if c_data == []:\n",
    "        print(\"No case data for that geography.\")\n",
    "        return\n",
    "    perc_infected = float(\"{:.4f}\".format(int(c_data[-1][1]) / int(p_data['POPESTIMATE2019']) * 100))\n",
    "    mortality_rate = float(\"{:.4f}\".format(int(c_data[-1][4]) / int(p_data['POPESTIMATE2019']) * 100))\n",
    "    case_mortality = float(\"{:.2f}\".format(int(c_data[-1][4]) / int(c_data[-1][1]) * 100))\n",
    "    print(\"Case Rate: \", perc_infected, '%')\n",
    "    print(\"Mortality (vs. total population): \", mortality_rate, '%')\n",
    "    print(\"Case Mortality %: \", case_mortality, '%')\n",
    "    print(tabulate(c_data, headers=['Date', 'Cases', 'Delta', '% Inc', 'Deaths', 'Delta', '% Inc']))"
   ]
  },
  {
   "cell_type": "code",
   "execution_count": 72,
   "metadata": {},
   "outputs": [
    {
     "name": "stdout",
     "output_type": "stream",
     "text": [
      "State: Iowa\n",
      "County: Linn\n",
      "--------------\n",
      "Linn\n",
      "--------------\n",
      "{'COUNTY': '113',\n",
      " 'CTYNAME': 'Linn County',\n",
      " 'DEATHS2019': '1801',\n",
      " 'POPESTIMATE2019': '226706',\n",
      " 'RDEATH2019': '7.9607663729',\n",
      " 'REGION': '2',\n",
      " 'STATE': '19',\n",
      " 'STNAME': 'Iowa',\n",
      " 'SUMLEV': '050',\n",
      " 'composite_fips': '19113'}\n",
      "Row Count:  30844\n",
      "Case Rate:  0.052 %\n",
      "Mortality (vs. total population):  0.0018 %\n",
      "Case Mortality %:  3.39 %\n",
      "Date          Cases    Delta  % Inc      Deaths    Delta  % Inc\n",
      "----------  -------  -------  -------  --------  -------  -------\n",
      "2020-03-21        3        3  -               0        0  -\n",
      "2020-03-22        4        1  33.33           0        0  -\n",
      "2020-03-23        6        2  50.0            0        0  -\n",
      "2020-03-24        6        0  0.0             0        0  -\n",
      "2020-03-25        7        1  16.67           0        0  -\n",
      "2020-03-26       12        5  71.43           0        0  -\n",
      "2020-03-27       22       10  83.33           0        0  -\n",
      "2020-03-28       36       14  63.64           0        0  -\n",
      "2020-03-29       42        6  16.67           1        1  -\n",
      "2020-03-30       71       29  69.05           2        1  100.0\n",
      "2020-03-31       90       19  26.76           2        0  0.0\n",
      "2020-04-01       94        4  4.44            2        0  0.0\n",
      "2020-04-02      105       11  11.7            4        2  100.0\n",
      "2020-04-03      118       13  12.38           4        0  0.0\n"
     ]
    }
   ],
   "source": [
    "s = input(\"State: \").strip()\n",
    "c = input(\"County: \").strip()\n",
    "search_v2(county_data, s, c)"
   ]
  },
  {
   "cell_type": "code",
   "execution_count": 73,
   "metadata": {},
   "outputs": [],
   "source": [
    "pass"
   ]
  }
 ],
 "metadata": {
  "kernelspec": {
   "display_name": "Python 3",
   "language": "python",
   "name": "python3"
  },
  "language_info": {
   "codemirror_mode": {
    "name": "ipython",
    "version": 3
   },
   "file_extension": ".py",
   "mimetype": "text/x-python",
   "name": "python",
   "nbconvert_exporter": "python",
   "pygments_lexer": "ipython3",
   "version": "3.7.6"
  }
 },
 "nbformat": 4,
 "nbformat_minor": 4
}
