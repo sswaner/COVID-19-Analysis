{
 "cells": [
  {
   "cell_type": "code",
   "execution_count": 61,
   "metadata": {},
   "outputs": [],
   "source": [
    "from tabulate import tabulate\n",
    "from operator import itemgetter\n",
    "from pprint import pprint"
   ]
  },
  {
   "cell_type": "code",
   "execution_count": 62,
   "metadata": {},
   "outputs": [
    {
     "data": {
      "text/html": [
       "<style>.container { width:100% !important; }</style>"
      ],
      "text/plain": [
       "<IPython.core.display.HTML object>"
      ]
     },
     "metadata": {},
     "output_type": "display_data"
    }
   ],
   "source": [
    "import population\n",
    "\n",
    "#print(population.search('new york', 'nassau'))\n",
    "\n",
    "from IPython.core.display import display, HTML \n",
    "display(HTML(\"<style>.container { width:100% !important; }</style>\"))"
   ]
  },
  {
   "cell_type": "code",
   "execution_count": 63,
   "metadata": {},
   "outputs": [],
   "source": [
    "county_data = open(\"../covid-19-data/us-counties.csv\")"
   ]
  },
  {
   "cell_type": "code",
   "execution_count": 64,
   "metadata": {},
   "outputs": [],
   "source": [
    "def search_v2(data, s, c=False):\n",
    "    if c == '':\n",
    "        c = False\n",
    "    p_data = population.search(s, c)\n",
    "\n",
    "    if p_data == None:\n",
    "        print(\"No match for that geography.\")\n",
    "        return\n",
    "    else:\n",
    "        #pass\n",
    "        pprint(p_data)\n",
    "    header = ['Date', 'Cases', 'Deaths']\n",
    "    c_data = []\n",
    "    prior_c = 0\n",
    "    prior_d = 0\n",
    "    row_count = 0\n",
    "    for line in data:\n",
    "        row_count += 1\n",
    "        include = False\n",
    "        row = line.strip().split(',')\n",
    "        if len(row) == 6:\n",
    "            if c is not False:\n",
    "                if c.lower() == \"new york city\":\n",
    "                    if row[1] == 'New York City':\n",
    "                        include = True\n",
    "            if row[3] == p_data['composite_fips']:\n",
    "                include = True\n",
    "            if include:\n",
    "                delta = int(row[4]) - prior_c\n",
    "                delta_d = int(row[5]) - prior_d\n",
    "                if prior_c > 0:\n",
    "                    delta_p = float(\"{:.2f}\".format((delta / prior_c) * 100))\n",
    "                else:\n",
    "                    delta_p = '-'\n",
    "                    \n",
    "                if prior_d > 0:\n",
    "                    delta_dp = float(\"{:.4f}\".format((delta_d / prior_d) * 100))\n",
    "                else:\n",
    "                    delta_dp = '-'\n",
    "                    \n",
    "                if delta > -1:\n",
    "                    c_data.append([row[0], row[4], delta, delta_p, row[5], delta_d, delta_dp])\n",
    "                prior_c = int(row[4])\n",
    "                prior_d = int(row[5])\n",
    "    print(\"Row Count: \", row_count)\n",
    "    if c_data == []:\n",
    "        print(\"No case data for that geography.\")\n",
    "        return\n",
    "    perc_infected = float(\"{:.4f}\".format(int(c_data[-1][1]) / int(p_data['POPESTIMATE2019']) * 100))\n",
    "    mortality_rate = float(\"{:.4f}\".format(int(c_data[-1][4]) / int(p_data['POPESTIMATE2019']) * 100))\n",
    "    case_mortality = float(\"{:.2f}\".format(int(c_data[-1][4]) / int(c_data[-1][1]) * 100))\n",
    "    print(\"POPESTIMATE2019\", p_data['POPESTIMATE2019'])\n",
    "    print(\"Case Rate: \", perc_infected, '%')\n",
    "    print(\"Mortality (vs. total population): \", mortality_rate, '%')\n",
    "    print(\"Case Mortality %: \", case_mortality, '%')\n",
    "    print(\"2019 Average deaths/day: \", float(\"{:.1f}\".format(int(p_data['DEATHS2019']) / 365)))\n",
    "    if len(c_data) >= 7:\n",
    "        print( \"Last 7 day case increase  (%):\", float(\"{:.2f}\".format(((int(c_data[-1][1]) - int(c_data[-8][1]))/ int(c_data[-8][1])) * 100 )),  (int(c_data[-1][1]) - int(c_data[-8][1])))    \n",
    "        if int(c_data[-8][4]) > 0:\n",
    "            print( \"Last 7 day death increase (%):\", float(\"{:.2f}\".format(((int(c_data[-1][4]) - int(c_data[-8][4]))/ int(c_data[-8][4])) * 100 )),(int(c_data[-1][4]) - int(c_data[-8][4])) )\n",
    "    print(tabulate(c_data[-30:], headers=['Date', 'Cases', 'Delta', '% Inc', 'Deaths', 'Delta', '% Inc']))"
   ]
  },
  {
   "cell_type": "code",
   "execution_count": 65,
   "metadata": {
    "scrolled": true
   },
   "outputs": [
    {
     "name": "stdout",
     "output_type": "stream",
     "text": [
      "State: Iowa\n",
      "County: Dallas\n",
      "{'COUNTY': '049',\n",
      " 'CTYNAME': 'Dallas County',\n",
      " 'DEATHS2019': '507',\n",
      " 'POPESTIMATE2019': '93453',\n",
      " 'RDEATH2019': '5.5287177083',\n",
      " 'REGION': '2',\n",
      " 'STATE': '19',\n",
      " 'STNAME': 'Iowa',\n",
      " 'SUMLEV': '050',\n",
      " 'composite_fips': '19049'}\n",
      "Row Count:  331180\n",
      "POPESTIMATE2019 93453\n",
      "Case Rate:  1.5141 %\n",
      "Mortality (vs. total population):  0.0332 %\n",
      "Case Mortality %:  2.19 %\n",
      "2019 Average deaths/day:  1.4\n",
      "Last 7 day case increase  (%): 10.2 131\n",
      "Last 7 day death increase (%): 6.9 2\n",
      "Date          Cases    Delta    % Inc    Deaths    Delta    % Inc\n",
      "----------  -------  -------  -------  --------  -------  -------\n",
      "2020-06-13     1019       14     1.39        26        0   0\n",
      "2020-06-14     1026        7     0.69        26        0   0\n",
      "2020-06-15     1029        3     0.29        26        0   0\n",
      "2020-06-16     1031        2     0.19        28        2   7.6923\n",
      "2020-06-17     1046       15     1.45        29        1   3.5714\n",
      "2020-06-18     1051        5     0.48        28       -1  -3.4483\n",
      "2020-06-19     1064       13     1.24        28        0   0\n",
      "2020-06-20     1067        3     0.28        29        1   3.5714\n",
      "2020-06-21     1073        6     0.56        29        0   0\n",
      "2020-06-22     1081        8     0.75        29        0   0\n",
      "2020-06-23     1084        3     0.28        29        0   0\n",
      "2020-06-24     1091        7     0.65        29        0   0\n",
      "2020-06-25     1115       24     2.2         29        0   0\n",
      "2020-06-26     1126       11     0.99        29        0   0\n",
      "2020-06-27     1151       25     2.22        29        0   0\n",
      "2020-06-28     1172       21     1.82        29        0   0\n",
      "2020-06-29     1173        1     0.09        29        0   0\n",
      "2020-06-30     1176        3     0.26        29        0   0\n",
      "2020-07-01     1197       21     1.79        29        0   0\n",
      "2020-07-02     1223       26     2.17        29        0   0\n",
      "2020-07-03     1249       26     2.13        29        0   0\n",
      "2020-07-04     1267       18     1.44        29        0   0\n",
      "2020-07-05     1284       17     1.34        29        0   0\n",
      "2020-07-07     1291       11     0.86        29        0   0\n",
      "2020-07-08     1300        9     0.7         31        2   6.8966\n",
      "2020-07-09     1335       35     2.69        31        0   0\n",
      "2020-07-10     1366       31     2.32        31        0   0\n",
      "2020-07-11     1387       21     1.54        31        0   0\n",
      "2020-07-12     1409       22     1.59        31        0   0\n",
      "2020-07-13     1415        6     0.43        31        0   0\n"
     ]
    }
   ],
   "source": [
    "\n",
    "s = input(\"State: \").strip()\n",
    "c = input(\"County: \").strip()\n",
    "search_v2(county_data, s, c)"
   ]
  },
  {
   "cell_type": "code",
   "execution_count": null,
   "metadata": {},
   "outputs": [],
   "source": []
  }
 ],
 "metadata": {
  "kernelspec": {
   "display_name": "Python 3",
   "language": "python",
   "name": "python3"
  },
  "language_info": {
   "codemirror_mode": {
    "name": "ipython",
    "version": 3
   },
   "file_extension": ".py",
   "mimetype": "text/x-python",
   "name": "python",
   "nbconvert_exporter": "python",
   "pygments_lexer": "ipython3",
   "version": "3.7.6"
  }
 },
 "nbformat": 4,
 "nbformat_minor": 4
}
