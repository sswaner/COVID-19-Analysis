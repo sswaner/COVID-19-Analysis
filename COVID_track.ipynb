{
 "cells": [
  {
   "cell_type": "code",
   "execution_count": 61,
   "metadata": {},
   "outputs": [],
   "source": [
    "from tabulate import tabulate\n",
    "from operator import itemgetter\n",
    "from pprint import pprint"
   ]
  },
  {
   "cell_type": "code",
   "execution_count": 62,
   "metadata": {},
   "outputs": [],
   "source": [
    "import population\n",
    "\n",
    "#print(population.search('new york', 'nassau'))"
   ]
  },
  {
   "cell_type": "code",
   "execution_count": 63,
   "metadata": {},
   "outputs": [],
   "source": [
    "county_data = open(\"../covid-19-data/us-counties.csv\")"
   ]
  },
  {
   "cell_type": "code",
   "execution_count": 64,
   "metadata": {},
   "outputs": [],
   "source": [
    "def search_v2(data, s, c=False):\n",
    "    if c == '':\n",
    "        c = False\n",
    "    p_data = population.search(s, c)\n",
    "\n",
    "    if p_data == None:\n",
    "        print(\"No match for that geography.\")\n",
    "        return\n",
    "    else:\n",
    "        pprint(p_data)\n",
    "    header = ['Date', 'Cases', 'Deaths']\n",
    "    c_data = []\n",
    "    prior_c = 0\n",
    "    prior_d = 0\n",
    "    row_count = 0\n",
    "    for line in data:\n",
    "        row_count += 1\n",
    "        include = False\n",
    "        row = line.strip().split(',')\n",
    "        if len(row) == 6:\n",
    "            if c is not False:\n",
    "                if c.lower() == \"new york city\":\n",
    "                    if row[1] == 'New York City':\n",
    "                        include = True\n",
    "            if row[3] == p_data['composite_fips']:\n",
    "                include = True\n",
    "            if include:\n",
    "                delta = int(row[4]) - prior_c\n",
    "                delta_d = int(row[5]) - prior_d\n",
    "                if prior_c > 0:\n",
    "                    delta_p = float(\"{:.2f}\".format((delta / prior_c) * 100))\n",
    "                else:\n",
    "                    delta_p = '-'\n",
    "                    \n",
    "                if prior_d > 0:\n",
    "                    delta_dp = float(\"{:.4f}\".format((delta_d / prior_d) * 100))\n",
    "                else:\n",
    "                    delta_dp = '-'\n",
    "                    \n",
    "                if delta > -1:\n",
    "                    c_data.append([row[0], row[4], delta, delta_p, row[5], delta_d, delta_dp])\n",
    "                prior_c = int(row[4])\n",
    "                prior_d = int(row[5])\n",
    "    print(\"Row Count: \", row_count)\n",
    "    if c_data == []:\n",
    "        print(\"No case data for that geography.\")\n",
    "        return\n",
    "    perc_infected = float(\"{:.4f}\".format(int(c_data[-1][1]) / int(p_data['POPESTIMATE2019']) * 100))\n",
    "    mortality_rate = float(\"{:.4f}\".format(int(c_data[-1][4]) / int(p_data['POPESTIMATE2019']) * 100))\n",
    "    case_mortality = float(\"{:.2f}\".format(int(c_data[-1][4]) / int(c_data[-1][1]) * 100))\n",
    "    print(\"Case Rate: \", perc_infected, '%')\n",
    "    print(\"Mortality (vs. total population): \", mortality_rate, '%')\n",
    "    print(\"Case Mortality %: \", case_mortality, '%')\n",
    "    print(\"2019 Average deaths/day: \", int(p_data['DEATHS2019']) / 365)\n",
    "    print(tabulate(c_data, headers=['Date', 'Cases', 'Delta', '% Inc', 'Deaths', 'Delta', '% Inc']))"
   ]
  },
  {
   "cell_type": "code",
   "execution_count": 65,
   "metadata": {},
   "outputs": [
    {
     "name": "stdout",
     "output_type": "stream",
     "text": [
      "State: Louisiana\n",
      "County: Jefferson Parish\n",
      "--------------\n",
      "Jefferson Parish\n",
      "--------------\n",
      "{'COUNTY': '051',\n",
      " 'CTYNAME': 'Jefferson Parish',\n",
      " 'DEATHS2019': '4345',\n",
      " 'POPESTIMATE2019': '432493',\n",
      " 'RDEATH2019': '10.030275504',\n",
      " 'REGION': '3',\n",
      " 'STATE': '22',\n",
      " 'STNAME': 'Louisiana',\n",
      " 'SUMLEV': '050',\n",
      " 'composite_fips': '22051'}\n",
      "Row Count:  48510\n",
      "Case Rate:  1.0816 %\n",
      "Mortality (vs. total population):  0.0382 %\n",
      "Case Mortality %:  3.53 %\n",
      "2019 Average deaths/day:  11.904109589041095\n",
      "Date          Cases    Delta  % Inc      Deaths    Delta  % Inc\n",
      "----------  -------  -------  -------  --------  -------  -------\n",
      "2020-03-09        1        1  -               0        0  -\n",
      "2020-03-10        1        0  0.0             0        0  -\n",
      "2020-03-11        1        0  0.0             0        0  -\n",
      "2020-03-12        1        0  0.0             0        0  -\n",
      "2020-03-13        3        2  200.0           0        0  -\n",
      "2020-03-14       11        8  266.67          0        0  -\n",
      "2020-03-15       14        3  27.27           0        0  -\n",
      "2020-03-16       21        7  50.0            0        0  -\n",
      "2020-03-17       35       14  66.67           0        0  -\n",
      "2020-03-18       45       10  28.57           1        1  -\n",
      "2020-03-19       69       24  53.33           1        0  0.0\n",
      "2020-03-20      104       35  50.72           1        0  0.0\n",
      "2020-03-21      166       62  59.62           2        1  100.0\n",
      "2020-03-22      184       18  10.84           3        1  50.0\n",
      "2020-03-23      252       68  36.96           5        2  66.6667\n",
      "2020-03-24      293       41  16.27           6        1  20.0\n",
      "2020-03-25      359       66  22.53           7        1  16.6667\n",
      "2020-03-26      458       99  27.58          12        5  71.4286\n",
      "2020-03-27      548       90  19.65          24       12  100.0\n",
      "2020-03-28      744      196  35.77          26        2  8.3333\n",
      "2020-03-29      761       17  2.28           28        2  7.6923\n",
      "2020-03-30      838       77  10.12          37        9  32.1429\n",
      "2020-03-31     1193      355  42.36          57       20  54.0541\n",
      "2020-04-01     1433      240  20.12          64        7  12.2807\n",
      "2020-04-02     2178      745  51.99          73        9  14.0625\n",
      "2020-04-03     2495      317  14.55          85       12  16.4384\n",
      "2020-04-04     3008      513  20.56          95       10  11.7647\n",
      "2020-04-05     3088       80  2.66          113       18  18.9474\n",
      "2020-04-06     3530      442  14.31         121        8  7.0796\n",
      "2020-04-07     3922      392  11.1          137       16  13.2231\n",
      "2020-04-08     4092      170  4.33          149       12  8.7591\n",
      "2020-04-09     4480      388  9.48          158        9  6.0403\n",
      "2020-04-10     4678      198  4.42          165        7  4.4304\n"
     ]
    }
   ],
   "source": [
    "\n",
    "s = input(\"State: \").strip()\n",
    "c = input(\"County: \").strip()\n",
    "search_v2(county_data, s, c)"
   ]
  }
 ],
 "metadata": {
  "kernelspec": {
   "display_name": "Python 3",
   "language": "python",
   "name": "python3"
  },
  "language_info": {
   "codemirror_mode": {
    "name": "ipython",
    "version": 3
   },
   "file_extension": ".py",
   "mimetype": "text/x-python",
   "name": "python",
   "nbconvert_exporter": "python",
   "pygments_lexer": "ipython3",
   "version": "3.7.6"
  }
 },
 "nbformat": 4,
 "nbformat_minor": 4
}
