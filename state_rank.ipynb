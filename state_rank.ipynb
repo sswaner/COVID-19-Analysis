{
 "cells": [
  {
   "cell_type": "code",
   "execution_count": null,
   "metadata": {},
   "outputs": [],
   "source": [
    "import pandas as pd\n",
    "import covid_daily\n",
    "\n",
    "from IPython.core.display import display, HTML \n",
    "display(HTML(\"<style>.container { width:100% !important; }</style>\"))\n",
    "\n",
    "df3 = covid_daily.covid_daily_report('04-12-2020')\n",
    "df3.sort_values(by=['Deaths_per_1k'], ascending=False, inplace=True)\n",
    "print(df3.columns)\n",
    "#display(df3.query(\"POPESTIMATE2019>100000\").head(20))\n",
    "#display(df3.query(\"Admin2 in ['Rockland', 'Nassau', 'Blaine', 'Summit']\").head(30))\n",
    "df4 = df3.groupby('Province_State')['Deaths'].sum().to_frame().reset_index()\n",
    "df4.sort_values(by=['Deaths'], ascending=False, inplace=True)\n",
    "df4.reset_index()\n",
    "sum_row = df4.sum(axis=1)\n",
    "display(df4)\n"
   ]
  }
 ],
 "metadata": {
  "kernelspec": {
   "display_name": "Python 3",
   "language": "python",
   "name": "python3"
  },
  "language_info": {
   "codemirror_mode": {
    "name": "ipython",
    "version": 3
   },
   "file_extension": ".py",
   "mimetype": "text/x-python",
   "name": "python",
   "nbconvert_exporter": "python",
   "pygments_lexer": "ipython3",
   "version": "3.7.6"
  }
 },
 "nbformat": 4,
 "nbformat_minor": 4
}
