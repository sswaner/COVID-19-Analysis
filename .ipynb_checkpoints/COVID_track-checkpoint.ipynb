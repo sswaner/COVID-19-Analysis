{
 "cells": [
  {
   "cell_type": "code",
   "execution_count": 16,
   "metadata": {},
   "outputs": [],
   "source": [
    "from tabulate import tabulate\n",
    "from operator import itemgetter\n",
    "from pprint import pprint"
   ]
  },
  {
   "cell_type": "code",
   "execution_count": 17,
   "metadata": {},
   "outputs": [],
   "source": [
    "import population\n",
    "\n",
    "#print(population.search('new york', 'nassau'))"
   ]
  },
  {
   "cell_type": "code",
   "execution_count": 18,
   "metadata": {},
   "outputs": [],
   "source": [
    "county_data = open(\"../covid-19-data/us-counties.csv\")"
   ]
  },
  {
   "cell_type": "code",
   "execution_count": 19,
   "metadata": {},
   "outputs": [],
   "source": [
    "def search_v2(data, s, c=False):\n",
    "    if c == '':\n",
    "        c = False\n",
    "    p_data = population.search(s, c)\n",
    "\n",
    "    if p_data == None:\n",
    "        print(\"No match for that geography.\")\n",
    "        return\n",
    "    else:\n",
    "        pprint(p_data)\n",
    "    header = ['Date', 'Cases', 'Deaths']\n",
    "    c_data = []\n",
    "    prior_c = 0\n",
    "    prior_d = 0\n",
    "    row_count = 0\n",
    "    for line in data:\n",
    "        row_count += 1\n",
    "        include = False\n",
    "        row = line.strip().split(',')\n",
    "        if len(row) == 6:\n",
    "            if c is not False:\n",
    "                if c.lower() == \"new york city\":\n",
    "                    if row[1] == 'New York City':\n",
    "                        include = True\n",
    "            if row[3] == p_data['composite_fips']:\n",
    "                include = True\n",
    "            if include:\n",
    "                delta = int(row[4]) - prior_c\n",
    "                delta_d = int(row[5]) - prior_d\n",
    "                if prior_c > 0:\n",
    "                    delta_p = float(\"{:.2f}\".format((delta / prior_c) * 100))\n",
    "                else:\n",
    "                    delta_p = '-'\n",
    "                    \n",
    "                if prior_d > 0:\n",
    "                    delta_dp = float(\"{:.4f}\".format((delta_d / prior_d) * 100))\n",
    "                else:\n",
    "                    delta_dp = '-'\n",
    "                    \n",
    "                if delta > -1:\n",
    "                    c_data.append([row[0], row[4], delta, delta_p, row[5], delta_d, delta_dp])\n",
    "                prior_c = int(row[4])\n",
    "                prior_d = int(row[5])\n",
    "    print(\"Row Count: \", row_count)\n",
    "    if c_data == []:\n",
    "        print(\"No case data for that geography.\")\n",
    "        return\n",
    "    perc_infected = float(\"{:.4f}\".format(int(c_data[-1][1]) / int(p_data['POPESTIMATE2019']) * 100))\n",
    "    mortality_rate = float(\"{:.4f}\".format(int(c_data[-1][4]) / int(p_data['POPESTIMATE2019']) * 100))\n",
    "    case_mortality = float(\"{:.2f}\".format(int(c_data[-1][4]) / int(c_data[-1][1]) * 100))\n",
    "    print(\"Case Rate: \", perc_infected, '%')\n",
    "    print(\"Mortality (vs. total population): \", mortality_rate, '%')\n",
    "    print(\"Case Mortality %: \", case_mortality, '%')\n",
    "    print(tabulate(c_data, headers=['Date', 'Cases', 'Delta', '% Inc', 'Deaths', 'Delta', '% Inc']))"
   ]
  },
  {
   "cell_type": "code",
   "execution_count": 20,
   "metadata": {},
   "outputs": [
    {
     "name": "stdout",
     "output_type": "stream",
     "text": [
      "State: New York\n",
      "County: New York City\n",
      "--------------\n",
      "New York City\n",
      "--------------\n",
      "{'COUNTY': '153',\n",
      " 'CTYNAME': 'New York City (5 counties)',\n",
      " 'DEATHS2019': '62061',\n",
      " 'POPESTIMATE2019': '8336817',\n",
      " 'RDEATH2019': '7.6653',\n",
      " 'REGION': '?',\n",
      " 'STATE': '36',\n",
      " 'STNAME': 'New York',\n",
      " 'SUMLEV': '061',\n",
      " 'composite_fips': '36061'}\n",
      "Row Count:  38198\n",
      "Case Rate:  0.825 %\n",
      "Mortality (vs. total population):  0.0328 %\n",
      "Case Mortality %:  3.98 %\n",
      "Date          Cases    Delta  % Inc      Deaths    Delta  % Inc\n",
      "----------  -------  -------  -------  --------  -------  -------\n",
      "2020-03-01        1        1  -               0        0  -\n",
      "2020-03-02        1        0  0.0             0        0  -\n",
      "2020-03-03        2        1  100.0           0        0  -\n",
      "2020-03-04        2        0  0.0             0        0  -\n",
      "2020-03-05        4        2  100.0           0        0  -\n",
      "2020-03-06        5        1  25.0            0        0  -\n",
      "2020-03-07       12        7  140.0           0        0  -\n",
      "2020-03-08       14        2  16.67           0        0  -\n",
      "2020-03-09       20        6  42.86           0        0  -\n",
      "2020-03-10       37       17  85.0            0        0  -\n",
      "2020-03-11       52       15  40.54           0        0  -\n",
      "2020-03-12       96       44  84.62           0        0  -\n",
      "2020-03-13      155       59  61.46           0        0  -\n",
      "2020-03-14      269      114  73.55           1        1  -\n",
      "2020-03-15      330       61  22.68           5        4  400.0\n",
      "2020-03-16      464      134  40.61           7        2  40.0\n",
      "2020-03-17      645      181  39.01          10        3  42.8571\n",
      "2020-03-18     1339      694  107.6          20       10  100.0\n",
      "2020-03-19     2468     1129  84.32          22        2  10.0\n",
      "2020-03-20     4408     1940  78.61          43       21  95.4545\n",
      "2020-03-21     6211     1803  40.9           60       17  39.5349\n",
      "2020-03-22     9045     2834  45.63          99       39  65.0\n",
      "2020-03-23    12305     3260  36.04         131       32  32.3232\n",
      "2020-03-24    14905     2600  21.13         192       61  46.5649\n",
      "2020-03-25    20011     5106  34.26         280       88  45.8333\n",
      "2020-03-26    23112     3101  15.5          365       85  30.3571\n",
      "2020-03-27    25399     2287  9.9           450       85  23.2877\n",
      "2020-03-28    30766     5367  21.13         672      222  49.3333\n",
      "2020-03-29    33768     3002  9.76          776      104  15.4762\n",
      "2020-03-30    38087     4319  12.79         914      138  17.7835\n",
      "2020-03-31    43139     5052  13.26        1096      182  19.9125\n",
      "2020-04-01    47440     4301  9.97         1374      278  25.365\n",
      "2020-04-02    51810     4370  9.21         1562      188  13.6827\n",
      "2020-04-03    57160     5350  10.33        1867      305  19.5262\n",
      "2020-04-04    63307     6147  10.75        2254      387  20.7284\n",
      "2020-04-05    67552     4245  6.71         2472      218  9.6717\n",
      "2020-04-06    68776    68776  -            2738     2738  -\n"
     ]
    }
   ],
   "source": [
    "s = input(\"State: \").strip()\n",
    "c = input(\"County: \").strip()\n",
    "search_v2(county_data, s, c)"
   ]
  }
 ],
 "metadata": {
  "kernelspec": {
   "display_name": "Python 3",
   "language": "python",
   "name": "python3"
  },
  "language_info": {
   "codemirror_mode": {
    "name": "ipython",
    "version": 3
   },
   "file_extension": ".py",
   "mimetype": "text/x-python",
   "name": "python",
   "nbconvert_exporter": "python",
   "pygments_lexer": "ipython3",
   "version": "3.7.6"
  }
 },
 "nbformat": 4,
 "nbformat_minor": 4
}
