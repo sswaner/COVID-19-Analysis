{
 "cells": [
  {
   "cell_type": "code",
   "execution_count": 2,
   "metadata": {},
   "outputs": [],
   "source": [
    "from tabulate import tabulate\n",
    "from operator import itemgetter\n",
    "from pprint import pprint"
   ]
  },
  {
   "cell_type": "code",
   "execution_count": 3,
   "metadata": {},
   "outputs": [],
   "source": [
    "import population\n",
    "\n",
    "#print(population.search('new york', 'nassau'))"
   ]
  },
  {
   "cell_type": "code",
   "execution_count": 4,
   "metadata": {},
   "outputs": [],
   "source": [
    "county_data = open(\"../covid-19-data/us-counties.csv\")"
   ]
  },
  {
   "cell_type": "code",
   "execution_count": 5,
   "metadata": {},
   "outputs": [],
   "source": [
    "def search_v2(data, s, c=False):\n",
    "    if c == '':\n",
    "        c = False\n",
    "    p_data = population.search(s, c)\n",
    "\n",
    "    if p_data == None:\n",
    "        print(\"No match for that geography.\")\n",
    "        return\n",
    "    else:\n",
    "        pprint(p_data)\n",
    "    header = ['Date', 'Cases', 'Deaths']\n",
    "    c_data = []\n",
    "    prior_c = 0\n",
    "    prior_d = 0\n",
    "    row_count = 0\n",
    "    for line in data:\n",
    "        row_count += 1\n",
    "        include = False\n",
    "        row = line.strip().split(',')\n",
    "        if len(row) == 6:\n",
    "            if c is not False:\n",
    "                if c.lower() == \"new york city\":\n",
    "                    if row[1] == 'New York City':\n",
    "                        include = True\n",
    "            if row[3] == p_data['composite_fips']:\n",
    "                include = True\n",
    "            if include:\n",
    "                delta = int(row[4]) - prior_c\n",
    "                delta_d = int(row[5]) - prior_d\n",
    "                if prior_c > 0:\n",
    "                    delta_p = float(\"{:.2f}\".format((delta / prior_c) * 100))\n",
    "                else:\n",
    "                    delta_p = '-'\n",
    "                    \n",
    "                if prior_d > 0:\n",
    "                    delta_dp = float(\"{:.4f}\".format((delta_d / prior_d) * 100))\n",
    "                else:\n",
    "                    delta_dp = '-'\n",
    "                    \n",
    "                if delta > -1:\n",
    "                    c_data.append([row[0], row[4], delta, delta_p, row[5], delta_d, delta_dp])\n",
    "                prior_c = int(row[4])\n",
    "                prior_d = int(row[5])\n",
    "    print(\"Row Count: \", row_count)\n",
    "    if c_data == []:\n",
    "        print(\"No case data for that geography.\")\n",
    "        return\n",
    "    perc_infected = float(\"{:.4f}\".format(int(c_data[-1][1]) / int(p_data['POPESTIMATE2019']) * 100))\n",
    "    mortality_rate = float(\"{:.4f}\".format(int(c_data[-1][4]) / int(p_data['POPESTIMATE2019']) * 100))\n",
    "    case_mortality = float(\"{:.2f}\".format(int(c_data[-1][4]) / int(c_data[-1][1]) * 100))\n",
    "    print(\"Case Rate: \", perc_infected, '%')\n",
    "    print(\"Mortality (vs. total population): \", mortality_rate, '%')\n",
    "    print(\"Case Mortality %: \", case_mortality, '%')\n",
    "    print(\"2019 Average deaths/day: \", int(p_data['DEATHS2019']) / 365)\n",
    "    print(tabulate(c_data, headers=['Date', 'Cases', 'Delta', '% Inc', 'Deaths', 'Delta', '% Inc']))"
   ]
  },
  {
   "cell_type": "code",
   "execution_count": 6,
   "metadata": {},
   "outputs": [
    {
     "name": "stdout",
     "output_type": "stream",
     "text": [
      "State: Iowa\n",
      "County: Polk\n",
      "--------------\n",
      "Polk\n",
      "--------------\n",
      "{'COUNTY': '153',\n",
      " 'CTYNAME': 'Polk County',\n",
      " 'DEATHS2019': '3580',\n",
      " 'POPESTIMATE2019': '490161',\n",
      " 'RDEATH2019': '7.3361106728',\n",
      " 'REGION': '2',\n",
      " 'STATE': '19',\n",
      " 'STNAME': 'Iowa',\n",
      " 'SUMLEV': '050',\n",
      " 'composite_fips': '19153'}\n",
      "Row Count:  53849\n",
      "Case Rate:  0.0361 %\n",
      "Mortality (vs. total population):  0.001 %\n",
      "Case Mortality %:  2.82 %\n",
      "2019 Average deaths/day:  9.808219178082192\n",
      "Date          Cases    Delta  % Inc      Deaths    Delta  % Inc\n",
      "----------  -------  -------  -------  --------  -------  -------\n",
      "2020-03-15        1        1  -               0        0  -\n",
      "2020-03-16        1        0  0.0             0        0  -\n",
      "2020-03-17        1        0  0.0             0        0  -\n",
      "2020-03-18        3        2  200.0           0        0  -\n",
      "2020-03-19        6        3  100.0           0        0  -\n",
      "2020-03-20        6        0  0.0             0        0  -\n",
      "2020-03-21       10        4  66.67           0        0  -\n",
      "2020-03-22       10        0  0.0             0        0  -\n",
      "2020-03-23       12        2  20.0            0        0  -\n",
      "2020-03-24       17        5  41.67           0        0  -\n",
      "2020-03-25       20        3  17.65           0        0  -\n",
      "2020-03-26       24        4  20.0            0        0  -\n",
      "2020-03-27       28        4  16.67           0        0  -\n",
      "2020-03-28       40       12  42.86           0        0  -\n",
      "2020-03-29       50       10  25.0            0        0  -\n",
      "2020-03-30       61       11  22.0            0        0  -\n",
      "2020-03-31       76       15  24.59           0        0  -\n",
      "2020-04-01       81        5  6.58            1        1  -\n",
      "2020-04-02       87        6  7.41            1        0  0.0\n",
      "2020-04-03      100       13  14.94           1        0  0.0\n",
      "2020-04-04      109        9  9.0             1        0  0.0\n",
      "2020-04-05      122       13  11.93           5        4  400.0\n",
      "2020-04-06      125        3  2.46            5        0  0.0\n",
      "2020-04-07      127        2  1.6             5        0  0.0\n",
      "2020-04-08      134        7  5.51            5        0  0.0\n",
      "2020-04-09      140        6  4.48            5        0  0.0\n",
      "2020-04-10      147        7  5.0             5        0  0.0\n",
      "2020-04-11      163       16  10.88           5        0  0.0\n",
      "2020-04-12      177       14  8.59            5        0  0.0\n"
     ]
    }
   ],
   "source": [
    "\n",
    "s = input(\"State: \").strip()\n",
    "c = input(\"County: \").strip()\n",
    "search_v2(county_data, s, c)"
   ]
  }
 ],
 "metadata": {
  "kernelspec": {
   "display_name": "Python 3",
   "language": "python",
   "name": "python3"
  },
  "language_info": {
   "codemirror_mode": {
    "name": "ipython",
    "version": 3
   },
   "file_extension": ".py",
   "mimetype": "text/x-python",
   "name": "python",
   "nbconvert_exporter": "python",
   "pygments_lexer": "ipython3",
   "version": "3.7.6"
  }
 },
 "nbformat": 4,
 "nbformat_minor": 4
}
