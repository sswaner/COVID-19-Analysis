{
 "cells": [
  {
   "cell_type": "code",
   "execution_count": 26,
   "metadata": {},
   "outputs": [],
   "source": [
    "from tabulate import tabulate\n",
    "from operator import itemgetter\n",
    "from pprint import pprint"
   ]
  },
  {
   "cell_type": "code",
   "execution_count": 27,
   "metadata": {},
   "outputs": [
    {
     "data": {
      "text/html": [
       "<style>.container { width:100% !important; }</style>"
      ],
      "text/plain": [
       "<IPython.core.display.HTML object>"
      ]
     },
     "metadata": {},
     "output_type": "display_data"
    }
   ],
   "source": [
    "import population\n",
    "\n",
    "#print(population.search('new york', 'nassau'))\n",
    "\n",
    "from IPython.core.display import display, HTML \n",
    "display(HTML(\"<style>.container { width:100% !important; }</style>\"))"
   ]
  },
  {
   "cell_type": "code",
   "execution_count": 28,
   "metadata": {},
   "outputs": [],
   "source": [
    "county_data = open(\"../covid-19-data/us-counties.csv\")"
   ]
  },
  {
   "cell_type": "code",
   "execution_count": 29,
   "metadata": {},
   "outputs": [],
   "source": [
    "def search_v2(data, s, c=False):\n",
    "    if c == '':\n",
    "        c = False\n",
    "    p_data = population.search(s, c)\n",
    "\n",
    "    if p_data == None:\n",
    "        print(\"No match for that geography.\")\n",
    "        return\n",
    "    else:\n",
    "        #pass\n",
    "        pprint(p_data)\n",
    "    header = ['Date', 'Cases', 'Deaths']\n",
    "    c_data = []\n",
    "    prior_c = 0\n",
    "    prior_d = 0\n",
    "    row_count = 0\n",
    "    for line in data:\n",
    "        row_count += 1\n",
    "        include = False\n",
    "        row = line.strip().split(',')\n",
    "        if len(row) == 6:\n",
    "            if c is not False:\n",
    "                if c.lower() == \"new york city\":\n",
    "                    if row[1] == 'New York City':\n",
    "                        include = True\n",
    "            if row[3] == p_data['composite_fips']:\n",
    "                include = True\n",
    "            if include:\n",
    "                delta = int(row[4]) - prior_c\n",
    "                delta_d = int(row[5]) - prior_d\n",
    "                if prior_c > 0:\n",
    "                    delta_p = float(\"{:.2f}\".format((delta / prior_c) * 100))\n",
    "                else:\n",
    "                    delta_p = '-'\n",
    "                    \n",
    "                if prior_d > 0:\n",
    "                    delta_dp = float(\"{:.4f}\".format((delta_d / prior_d) * 100))\n",
    "                else:\n",
    "                    delta_dp = '-'\n",
    "                    \n",
    "                if delta > -1:\n",
    "                    c_data.append([row[0], row[4], delta, delta_p, row[5], delta_d, delta_dp])\n",
    "                prior_c = int(row[4])\n",
    "                prior_d = int(row[5])\n",
    "    print(\"Row Count: \", row_count)\n",
    "    if c_data == []:\n",
    "        print(\"No case data for that geography.\")\n",
    "        return\n",
    "    perc_infected = float(\"{:.4f}\".format(int(c_data[-1][1]) / int(p_data['POPESTIMATE2019']) * 100))\n",
    "    mortality_rate = float(\"{:.4f}\".format(int(c_data[-1][4]) / int(p_data['POPESTIMATE2019']) * 100))\n",
    "    case_mortality = float(\"{:.2f}\".format(int(c_data[-1][4]) / int(c_data[-1][1]) * 100))\n",
    "    print(\"POPESTIMATE2019\", p_data['POPESTIMATE2019'])\n",
    "    print(\"Case Rate: \", perc_infected, '%')\n",
    "    print(\"Mortality (vs. total population): \", mortality_rate, '%')\n",
    "    print(\"Case Mortality %: \", case_mortality, '%')\n",
    "    print(\"2019 Average deaths/day: \", float(\"{:.1f}\".format(int(p_data['DEATHS2019']) / 365)))\n",
    "    if len(c_data) >= 7:\n",
    "        print( \"Last 7 day case increase  (%):\", float(\"{:.2f}\".format(((int(c_data[-1][1]) - int(c_data[-8][1]))/ int(c_data[-8][1])) * 100 )),  (int(c_data[-1][1]) - int(c_data[-8][1])))    \n",
    "        if int(c_data[-8][4]) > 0:\n",
    "            print( \"Last 7 day death increase (%):\", float(\"{:.2f}\".format(((int(c_data[-1][4]) - int(c_data[-8][4]))/ int(c_data[-8][4])) * 100 )),(int(c_data[-1][4]) - int(c_data[-8][4])) )\n",
    "    print(tabulate(c_data[-30:], headers=['Date', 'Cases', 'Delta', '% Inc', 'Deaths', 'Delta', '% Inc']))"
   ]
  },
  {
   "cell_type": "code",
   "execution_count": 30,
   "metadata": {
    "scrolled": true
   },
   "outputs": [
    {
     "name": "stdout",
     "output_type": "stream",
     "text": [
      "State: Arizona\n",
      "County: Maricopa\n",
      "{'COUNTY': '013',\n",
      " 'CTYNAME': 'Maricopa County',\n",
      " 'DEATHS2019': '33023',\n",
      " 'POPESTIMATE2019': '4485414',\n",
      " 'RDEATH2019': '7.4310710943',\n",
      " 'REGION': '4',\n",
      " 'STATE': '04',\n",
      " 'STNAME': 'Arizona',\n",
      " 'SUMLEV': '050',\n",
      " 'composite_fips': '04013'}\n",
      "Row Count:  322652\n",
      "POPESTIMATE2019 4485414\n",
      "Case Rate:  1.7868 %\n",
      "Mortality (vs. total population):  0.0253 %\n",
      "Case Mortality %:  1.41 %\n",
      "2019 Average deaths/day:  90.5\n",
      "Last 7 day case increase  (%): 28.65 17850\n",
      "Last 7 day death increase (%): 28.31 250\n",
      "Date          Cases    Delta    % Inc    Deaths    Delta    % Inc\n",
      "----------  -------  -------  -------  --------  -------  -------\n",
      "2020-06-13    17791      768     4.51       549       13   2.4254\n",
      "2020-06-14    18692      901     5.06       551        2   0.3643\n",
      "2020-06-15    19372      680     3.64       557        6   1.0889\n",
      "2020-06-16    20775     1403     7.24       568       11   1.9749\n",
      "2020-06-17    22272     1497     7.21       579       11   1.9366\n",
      "2020-06-18    23890     1618     7.26       598       19   3.2815\n",
      "2020-06-19    25999     2109     8.83       615       17   2.8428\n",
      "2020-06-20    28303     2304     8.86       633       18   2.9268\n",
      "2020-06-21    30136     1833     6.48       632       -1  -0.158\n",
      "2020-06-22    31650     1514     5.02       634        2   0.3165\n",
      "2020-06-23    33883     2233     7.06       663       29   4.5741\n",
      "2020-06-24    34993     1110     3.28       690       27   4.0724\n",
      "2020-06-25    37135     2142     6.12       694        4   0.5797\n",
      "2020-06-26    39626     2491     6.71       718       24   3.4582\n",
      "2020-06-27    42374     2748     6.93       741       23   3.2033\n",
      "2020-06-28    44962     2588     6.11       746        5   0.6748\n",
      "2020-06-29    45178      216     0.48       746        0   0\n",
      "2020-06-30    48710     3532     7.82       771       25   3.3512\n",
      "2020-07-01    52266     3556     7.3        817       46   5.9663\n",
      "2020-07-02    54757     2491     4.77       843       26   3.1824\n",
      "2020-07-03    57929     3172     5.79       865       22   2.6097\n",
      "2020-07-04    59829     1900     3.28       880       15   1.7341\n",
      "2020-07-05    62296     2467     4.12       883        3   0.3409\n",
      "2020-07-06    64915     2619     4.2        881       -2  -0.2265\n",
      "2020-07-07    67543     2628     4.05       933       52   5.9024\n",
      "2020-07-08    70128     2585     3.83       959       26   2.7867\n",
      "2020-07-09    73165     3037     4.33      1012       53   5.5266\n",
      "2020-07-10    76328     3163     4.32      1049       37   3.6561\n",
      "2020-07-11    78481     2153     2.82      1093       44   4.1945\n",
      "2020-07-12    80146     1665     2.12      1133       40   3.6597\n"
     ]
    }
   ],
   "source": [
    "\n",
    "s = input(\"State: \").strip()\n",
    "c = input(\"County: \").strip()\n",
    "search_v2(county_data, s, c)"
   ]
  },
  {
   "cell_type": "code",
   "execution_count": null,
   "metadata": {},
   "outputs": [],
   "source": []
  }
 ],
 "metadata": {
  "kernelspec": {
   "display_name": "Python 3",
   "language": "python",
   "name": "python3"
  },
  "language_info": {
   "codemirror_mode": {
    "name": "ipython",
    "version": 3
   },
   "file_extension": ".py",
   "mimetype": "text/x-python",
   "name": "python",
   "nbconvert_exporter": "python",
   "pygments_lexer": "ipython3",
   "version": "3.7.6"
  }
 },
 "nbformat": 4,
 "nbformat_minor": 4
}
