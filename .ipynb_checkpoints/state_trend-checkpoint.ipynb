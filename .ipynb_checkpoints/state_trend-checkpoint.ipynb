{
 "cells": [
  {
   "cell_type": "code",
   "execution_count": 375,
   "metadata": {},
   "outputs": [
    {
     "data": {
      "text/plain": [
       "'en_US.UTF-8'"
      ]
     },
     "execution_count": 375,
     "metadata": {},
     "output_type": "execute_result"
    }
   ],
   "source": [
    "from tabulate import tabulate\n",
    "from operator import itemgetter\n",
    "from pprint import pprint\n",
    "import locale\n",
    "locale.setlocale(locale.LC_ALL, '') "
   ]
  },
  {
   "cell_type": "code",
   "execution_count": 376,
   "metadata": {},
   "outputs": [],
   "source": [
    "\n",
    "\n",
    "#print(population.search('new york', 'nassau'))"
   ]
  },
  {
   "cell_type": "code",
   "execution_count": null,
   "metadata": {},
   "outputs": [],
   "source": []
  },
  {
   "cell_type": "code",
   "execution_count": 377,
   "metadata": {},
   "outputs": [],
   "source": [
    "def search_state(data, s):\n",
    "    \"\"\"\n",
    "    prior_c: track prior day case count\n",
    "    prior_d: track prior day death count\n",
    "    delta: change in case count from prior day\n",
    "    delta_p: percent change in case count from prior day\n",
    "    delta_dp: percent change in death count from prior day\n",
    "    \n",
    "    \"\"\"\n",
    "    p_data = population.search(s, False)\n",
    "    #print(p_data)\n",
    "    if p_data == None:\n",
    "        print(\"No match for that geography.\")\n",
    "        return\n",
    "    else:\n",
    "        pass\n",
    "        #pprint(p_data)\n",
    "    header = ['Date', 'Cases', 'Deaths']\n",
    "    c_data = []\n",
    "    prior_c = 0\n",
    "    prior_d = 0\n",
    "    row_count = 0\n",
    "    for line in data:\n",
    "        row_count += 1\n",
    "        include = False\n",
    "        row = line.strip().split(',')\n",
    "        if len(row) == 5:\n",
    "            if row[2] == p_data['STATE']:\n",
    "                include = True\n",
    "            if include:\n",
    "                delta = int(row[3]) - prior_c\n",
    "                delta_d = int(row[4]) - prior_d\n",
    "                if prior_c > 0:\n",
    "                    delta_p = float(\"{:.2f}\".format((delta / prior_c) * 100))\n",
    "                else:\n",
    "                    delta_p = '-'\n",
    "                    \n",
    "                if prior_d > 0:\n",
    "                    delta_dp = float(\"{:.4f}\".format((delta_d / prior_d) * 100))\n",
    "                else:\n",
    "                    delta_dp = '-'\n",
    "                    \n",
    "                if delta > -1:\n",
    "                    c_data.append([row[0], row[3], delta, delta_p, row[4], delta_d, delta_dp])\n",
    "                prior_c = int(row[3])\n",
    "                prior_d = int(row[4])\n",
    "    #print(\"Row Count: \", row_count)\n",
    "    if c_data == []:\n",
    "        print(\"No case data for that geography.\")\n",
    "        return\n",
    "    # percentage of total population with a reported COVID-19 infection\n",
    "    case_percentage = float(\"{:.4f}\".format(int(c_data[-1][1]) / int(p_data['POPESTIMATE2019']) * 100))\n",
    "    mortality_rate = float(\"{:.4f}\".format(int(c_data[-1][4]) / int(p_data['POPESTIMATE2019']) * 100))\n",
    "    case_mortality = float(\"{:.2f}\".format(int(c_data[-1][4]) / int(c_data[-1][1]) * 100))\n",
    "    print('-' * 80)\n",
    "    print( \"State - Daily Trend for {0}, FIPS:{1}\".format(s.capitalize(), p_data['composite_fips']))\n",
    "    print( \"Population: {:n}\".format(int(p_data['POPESTIMATE2019'])))\n",
    "    print( \"2019 Deaths: {1}  Average deaths/day: {0}\".format(float(\"{:.2f}\".format(int(p_data['DEATHS2019']) / 365)), \n",
    "                                                                '{:,}'.format(int(p_data['DEATHS2019']))))\n",
    "    print( \"Case Rate: \", '{:.2f}%'.format(case_percentage))\n",
    "    print( \"Mortality (vs. total population): \", \"{:.4f}%\".format(mortality_rate) )\n",
    "    print( \"Case Mortality %: \", \"{:.2f}%\".format(case_mortality))\n",
    "    print( \"Last 7 day case increase  :\", \"{:.2f}%\".format(((int(c_data[-1][1]) - int(c_data[-7][1]))/ int(c_data[-7][1])) * 100 )) \n",
    "    print( \"Last 7 day death increase :\", \"{:.2f}%\".format(((int(c_data[-1][4]) - int(c_data[-7][4]))/ int(c_data[-7][4])) * 100 )) \n",
    "    print(\" \")\n",
    "    print(tabulate(c_data[-10:], headers=['Date', 'Cases', 'Delta', '% Inc', 'Deaths', 'Delta', '% Inc']))"
   ]
  },
  {
   "cell_type": "code",
   "execution_count": null,
   "metadata": {},
   "outputs": [],
   "source": [
    "import population\n",
    "state_data = open(\"../covid-19-data/us-states.csv\")\n",
    "\n",
    "s = input(\"State: \").strip()\n",
    "search_state(state_data, s)"
   ]
  },
  {
   "cell_type": "code",
   "execution_count": null,
   "metadata": {},
   "outputs": [],
   "source": [
    "!"
   ]
  },
  {
   "cell_type": "code",
   "execution_count": null,
   "metadata": {},
   "outputs": [],
   "source": []
  }
 ],
 "metadata": {
  "kernelspec": {
   "display_name": "Python 3",
   "language": "python",
   "name": "python3"
  },
  "language_info": {
   "codemirror_mode": {
    "name": "ipython",
    "version": 3
   },
   "file_extension": ".py",
   "mimetype": "text/x-python",
   "name": "python",
   "nbconvert_exporter": "python",
   "pygments_lexer": "ipython3",
   "version": "3.7.6"
  }
 },
 "nbformat": 4,
 "nbformat_minor": 4
}
