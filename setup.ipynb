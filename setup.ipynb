{
 "cells": [
  {
   "cell_type": "code",
   "execution_count": null,
   "metadata": {},
   "outputs": [],
   "source": [
    "import sys\n",
    "!{sys.executable} -m pip install tabulate"
   ]
  },
  {
   "cell_type": "code",
   "execution_count": 1,
   "metadata": {},
   "outputs": [
    {
     "name": "stdout",
     "output_type": "stream",
     "text": [
      "Cloning into 'COVID-19'...\n",
      "remote: Enumerating objects: 18, done.\u001b[K\n",
      "remote: Counting objects: 100% (18/18), done.\u001b[K\n",
      "remote: Compressing objects: 100% (12/12), done.\u001b[K\n",
      "remote: Total 17838 (delta 6), reused 10 (delta 5), pack-reused 17820\u001b[K\n",
      "Receiving objects: 100% (17838/17838), 70.16 MiB | 4.83 MiB/s, done.\n",
      "Resolving deltas: 100% (9019/9019), done.\n"
     ]
    }
   ],
   "source": [
    "#!git clone https://github.com/CSSEGISandData/COVID-19.git"
   ]
  },
  {
   "cell_type": "code",
   "execution_count": 5,
   "metadata": {},
   "outputs": [
    {
     "name": "stdout",
     "output_type": "stream",
     "text": [
      "Cloning into 'covid-19-data'...\n",
      "remote: Enumerating objects: 61, done.\u001b[K\n",
      "remote: Total 61 (delta 0), reused 0 (delta 0), pack-reused 61\u001b[K\n",
      "Unpacking objects: 100% (61/61), done.\n"
     ]
    }
   ],
   "source": [
    "!git clone https://github.com/nytimes/covid-19-data.git"
   ]
  },
  {
   "cell_type": "code",
   "execution_count": 6,
   "metadata": {},
   "outputs": [
    {
     "name": "stdout",
     "output_type": "stream",
     "text": [
      "/bin/sh: 1: ./COVID-19/git: not found\n",
      "fatal: not a git repository (or any of the parent directories): .git\n"
     ]
    }
   ],
   "source": [
    "!./COVID-19/git pull\n",
    "! cd COVID-19/\n",
    "! git pull"
   ]
  },
  {
   "cell_type": "code",
   "execution_count": 4,
   "metadata": {},
   "outputs": [
    {
     "name": "stdout",
     "output_type": "stream",
     "text": [
      "Collecting holoviews\n",
      "  Downloading holoviews-1.13.2-py2.py3-none-any.whl (4.2 MB)\n",
      "\u001b[K     |████████████████████████████████| 4.2 MB 3.9 MB/s eta 0:00:01     |████▉                           | 624 kB 3.9 MB/s eta 0:00:01     |█████████████████████████████   | 3.8 MB 3.9 MB/s eta 0:00:01     |███████████████████████████████▋| 4.1 MB 3.9 MB/s eta 0:00:01\n",
      "\u001b[?25hRequirement already satisfied: pandas in /opt/conda/lib/python3.7/site-packages (from holoviews) (1.0.2)\n",
      "Requirement already satisfied: numpy>=1.0 in /opt/conda/lib/python3.7/site-packages (from holoviews) (1.18.1)\n",
      "Collecting pyviz-comms>=0.7.3\n",
      "  Downloading pyviz_comms-0.7.4-py2.py3-none-any.whl (10 kB)\n",
      "Collecting param<2.0,>=1.9.3\n",
      "  Downloading param-1.9.3-py2.py3-none-any.whl (70 kB)\n",
      "\u001b[K     |████████████████████████████████| 70 kB 8.8 MB/s  eta 0:00:01\n",
      "\u001b[?25hCollecting panel>=0.7.0\n",
      "  Downloading panel-0.9.5-py2.py3-none-any.whl (1.3 MB)\n",
      "\u001b[K     |████████████████████████████████| 1.3 MB 11.3 MB/s eta 0:00:01\n",
      "\u001b[?25hRequirement already satisfied: python-dateutil>=2.6.1 in /opt/conda/lib/python3.7/site-packages (from pandas->holoviews) (2.8.1)\n",
      "Requirement already satisfied: pytz>=2017.2 in /opt/conda/lib/python3.7/site-packages (from pandas->holoviews) (2019.3)\n",
      "Collecting pyct>=0.4.4\n",
      "  Downloading pyct-0.4.6-py2.py3-none-any.whl (12 kB)\n",
      "Collecting bokeh>=2.0.0\n",
      "  Downloading bokeh-2.0.1.tar.gz (8.6 MB)\n",
      "\u001b[K     |████████████████████████████████| 8.6 MB 10.1 MB/s eta 0:00:01     |████▊                           | 1.3 MB 10.1 MB/s eta 0:00:01     |███████████████████▍            | 5.2 MB 10.1 MB/s eta 0:00:01     |███████████████████████████▋    | 7.4 MB 10.1 MB/s eta 0:00:01\n",
      "\u001b[?25hCollecting markdown\n",
      "  Downloading Markdown-3.2.1-py2.py3-none-any.whl (88 kB)\n",
      "\u001b[K     |████████████████████████████████| 88 kB 7.3 MB/s  eta 0:00:01\n",
      "\u001b[?25hRequirement already satisfied: tqdm in /opt/conda/lib/python3.7/site-packages (from panel>=0.7.0->holoviews) (4.43.0)\n",
      "Requirement already satisfied: six>=1.5 in /opt/conda/lib/python3.7/site-packages (from python-dateutil>=2.6.1->pandas->holoviews) (1.14.0)\n",
      "Requirement already satisfied: PyYAML>=3.10 in /opt/conda/lib/python3.7/site-packages (from bokeh>=2.0.0->panel>=0.7.0->holoviews) (5.3)\n",
      "Requirement already satisfied: Jinja2>=2.7 in /opt/conda/lib/python3.7/site-packages (from bokeh>=2.0.0->panel>=0.7.0->holoviews) (2.11.1)\n",
      "Requirement already satisfied: pillow>=4.0 in /opt/conda/lib/python3.7/site-packages (from bokeh>=2.0.0->panel>=0.7.0->holoviews) (7.0.0)\n",
      "Requirement already satisfied: packaging>=16.8 in /opt/conda/lib/python3.7/site-packages (from bokeh>=2.0.0->panel>=0.7.0->holoviews) (20.1)\n",
      "Requirement already satisfied: tornado>=5 in /opt/conda/lib/python3.7/site-packages (from bokeh>=2.0.0->panel>=0.7.0->holoviews) (6.0.4)\n",
      "Collecting typing_extensions>=3.7.4\n",
      "  Downloading typing_extensions-3.7.4.2-py3-none-any.whl (22 kB)\n",
      "Requirement already satisfied: setuptools>=36 in /opt/conda/lib/python3.7/site-packages (from markdown->panel>=0.7.0->holoviews) (46.0.0.post20200311)\n",
      "Requirement already satisfied: MarkupSafe>=0.23 in /opt/conda/lib/python3.7/site-packages (from Jinja2>=2.7->bokeh>=2.0.0->panel>=0.7.0->holoviews) (1.1.1)\n",
      "Requirement already satisfied: pyparsing>=2.0.2 in /opt/conda/lib/python3.7/site-packages (from packaging>=16.8->bokeh>=2.0.0->panel>=0.7.0->holoviews) (2.4.6)\n",
      "Building wheels for collected packages: bokeh\n",
      "  Building wheel for bokeh (setup.py) ... \u001b[?25ldone\n",
      "\u001b[?25h  Created wheel for bokeh: filename=bokeh-2.0.1-py3-none-any.whl size=9080029 sha256=64f47b9c389dcdc990ca1e8303efffffe444671d0311c16e8a00562e08a6cffd\n",
      "  Stored in directory: /home/jovyan/.cache/pip/wheels/9f/9e/ac/f24f30e119df73511fde9af8aa747217ac8824e662037ba9a8\n",
      "Successfully built bokeh\n",
      "Installing collected packages: param, pyviz-comms, pyct, typing-extensions, bokeh, markdown, panel, holoviews\n",
      "  Attempting uninstall: bokeh\n",
      "    Found existing installation: bokeh 1.4.0\n",
      "    Uninstalling bokeh-1.4.0:\n",
      "      Successfully uninstalled bokeh-1.4.0\n",
      "Successfully installed bokeh-2.0.1 holoviews-1.13.2 markdown-3.2.1 panel-0.9.5 param-1.9.3 pyct-0.4.6 pyviz-comms-0.7.4 typing-extensions-3.7.4.2\n"
     ]
    }
   ],
   "source": [
    "import sys\n",
    "!{sys.executable} -m pip install holoviews"
   ]
  }
 ],
 "metadata": {
  "kernelspec": {
   "display_name": "Python 3",
   "language": "python",
   "name": "python3"
  },
  "language_info": {
   "codemirror_mode": {
    "name": "ipython",
    "version": 3
   },
   "file_extension": ".py",
   "mimetype": "text/x-python",
   "name": "python",
   "nbconvert_exporter": "python",
   "pygments_lexer": "ipython3",
   "version": "3.7.6"
  }
 },
 "nbformat": 4,
 "nbformat_minor": 4
}
